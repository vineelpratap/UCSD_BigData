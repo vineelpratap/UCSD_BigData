{
 "metadata": {
  "name": ""
 },
 "nbformat": 3,
 "nbformat_minor": 0,
 "worksheets": [
  {
   "cells": [
    {
     "cell_type": "code",
     "collapsed": false,
     "input": [
      "T = 3\n",
      "Q = 6\n",
      "N = 2"
     ],
     "language": "python",
     "metadata": {},
     "outputs": [],
     "prompt_number": 1
    },
    {
     "cell_type": "markdown",
     "metadata": {},
     "source": [
      "Intializing topics/question as dictionaries"
     ]
    },
    {
     "cell_type": "code",
     "collapsed": false,
     "input": [
      "topics = {}\n",
      "questions = {}"
     ],
     "language": "python",
     "metadata": {},
     "outputs": [],
     "prompt_number": 4
    },
    {
     "cell_type": "markdown",
     "metadata": {},
     "source": [
      "taking input"
     ]
    },
    {
     "cell_type": "code",
     "collapsed": false,
     "input": [
      "topics[0] = (0.0,0.0)\n",
      "topics[1] = (1.0,1.0)\n",
      "topics[2] = (2.0,2.0)\n",
      "\n",
      "questions[0] = [0]\n",
      "questions[1] = [0,1]\n",
      "questions[2] = [0,1,2]\n",
      "questions[3] = []\n",
      "questions[4] = []"
     ],
     "language": "python",
     "metadata": {},
     "outputs": [],
     "prompt_number": 5
    },
    {
     "cell_type": "code",
     "collapsed": false,
     "input": [
      "print topics\n",
      "print questions"
     ],
     "language": "python",
     "metadata": {},
     "outputs": [
      {
       "output_type": "stream",
       "stream": "stdout",
       "text": [
        "{0: (0.0, 0.0), 1: (1.0, 1.0), 2: (2.0, 2.0)}\n",
        "{0: [0], 1: [0, 1], 2: [0, 1, 2], 3: [], 4: []}\n"
       ]
      }
     ],
     "prompt_number": 7
    },
    {
     "cell_type": "code",
     "collapsed": false,
     "input": [
      "from scipy import spatial"
     ],
     "language": "python",
     "metadata": {},
     "outputs": [],
     "prompt_number": 8
    },
    {
     "cell_type": "code",
     "collapsed": false,
     "input": [
      "tree = spatial.KDTree(topics.values())\n",
      "print tree.data"
     ],
     "language": "python",
     "metadata": {},
     "outputs": [
      {
       "output_type": "stream",
       "stream": "stdout",
       "text": [
        "[[ 0.  0.]\n",
        " [ 1.  1.]\n",
        " [ 2.  2.]]\n"
       ]
      }
     ],
     "prompt_number": 14
    },
    {
     "cell_type": "code",
     "collapsed": false,
     "input": [
      "tree.query([4,4], k=2)"
     ],
     "language": "python",
     "metadata": {},
     "outputs": [
      {
       "metadata": {},
       "output_type": "pyout",
       "prompt_number": 17,
       "text": [
        "(array([ 2.82842712,  4.24264069]), array([2, 1]))"
       ]
      }
     ],
     "prompt_number": 17
    },
    {
     "cell_type": "markdown",
     "metadata": {},
     "source": [
      "###Simulating the environment###"
     ]
    },
    {
     "cell_type": "code",
     "collapsed": false,
     "input": [
      "T = 10000\n",
      "Q = 1000\n",
      "N = 10000\n",
      "\n",
      "\n",
      "graph_min = 0.0\n",
      "graph_max = 1000000.0\n",
      "\n",
      "topics = {}\n",
      "questions = {}"
     ],
     "language": "python",
     "metadata": {},
     "outputs": [],
     "prompt_number": 58
    },
    {
     "cell_type": "code",
     "collapsed": false,
     "input": [
      "xs = np.random.uniform(graph_min,graph_max,T)    \n",
      "ys = np.random.uniform(graph_min,graph_max,T)  \n",
      "for i, val in enumerate(zip(xs,ys)):\n",
      "    topics[i] = val"
     ],
     "language": "python",
     "metadata": {},
     "outputs": [],
     "prompt_number": 59
    },
    {
     "cell_type": "code",
     "collapsed": false,
     "input": [
      "for i in range(Q):\n",
      "    questions[i] = np.random.random_integers(0, high = T-1, size = np.random.randint(0,10))"
     ],
     "language": "python",
     "metadata": {},
     "outputs": [],
     "prompt_number": 60
    },
    {
     "cell_type": "code",
     "collapsed": false,
     "input": [
      "from datetime import datetime\n",
      "start=datetime.now()\n",
      "tree = spatial.KDTree(topics.values())\n",
      "for i in range(10):\n",
      "    x = random.uniform(graph_min, graph_max)\n",
      "    y = random.uniform(graph_min, graph_max)\n",
      "    k=np.random.randint(0,100)\n",
      "    tree.query([x,y], k = k)\n",
      "\n",
      "print datetime.now()-start"
     ],
     "language": "python",
     "metadata": {},
     "outputs": [
      {
       "output_type": "stream",
       "stream": "stdout",
       "text": [
        "0:00:00.136762\n"
       ]
      }
     ],
     "prompt_number": 67
    },
    {
     "cell_type": "code",
     "collapsed": false,
     "input": [
      "print len(topics)"
     ],
     "language": "python",
     "metadata": {},
     "outputs": [
      {
       "output_type": "stream",
       "stream": "stdout",
       "text": [
        "10000\n"
       ]
      }
     ],
     "prompt_number": 62
    },
    {
     "cell_type": "code",
     "collapsed": false,
     "input": [],
     "language": "python",
     "metadata": {},
     "outputs": []
    }
   ],
   "metadata": {}
  }
 ]
}