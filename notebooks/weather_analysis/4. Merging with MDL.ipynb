{
 "metadata": {
  "name": "",
  "signature": "sha256:d0cb0f43a691e659d725b55575d892156398aaae2f3f6f0ce9feaaeaf327427d"
 },
 "nbformat": 3,
 "nbformat_minor": 0,
 "worksheets": [
  {
   "cells": [
    {
     "cell_type": "code",
     "collapsed": false,
     "input": [
      "import os,sys,re,pickle, sklearn, numpy, re, base64, zlib\n",
      "import pandas as pd"
     ],
     "language": "python",
     "metadata": {},
     "outputs": [],
     "prompt_number": 2
    },
    {
     "cell_type": "code",
     "collapsed": false,
     "input": [
      "home_dir='/home/ubuntu/UCSD_BigData'\n",
      "data_dir=home_dir+'/data/weather'\n",
      "!ls $data_dir"
     ],
     "language": "python",
     "metadata": {},
     "outputs": [
      {
       "output_type": "stream",
       "stream": "stdout",
       "text": [
        "ALL.head.csv\t  ghcnd-stations_buffered.txt  SAMPLE_TMAX.csv\r\n",
        "data-source.txt   ghcnd-stations.txt\t       SAMPLE_TMAX.csv.old.gz\r\n",
        "ghcnd-readme.txt  ghcnd-version.txt\r\n"
       ]
      }
     ],
     "prompt_number": 1
    },
    {
     "cell_type": "code",
     "collapsed": false,
     "input": [
      "tree_array = {}#stores all the current ids of the leaves \n",
      "matrices_store = {} #stores the matrices of leaves with key as the group id\n",
      "cannot_merge = dict([(g, []) for g in tree_array]) #store the pairs which cannot be merged"
     ],
     "language": "python",
     "metadata": {},
     "outputs": [],
     "prompt_number": 2
    },
    {
     "cell_type": "code",
     "collapsed": false,
     "input": [
      "def can_merge(l, r):\n",
      "    "
     ],
     "language": "python",
     "metadata": {},
     "outputs": []
    },
    {
     "cell_type": "code",
     "collapsed": false,
     "input": [
      "nxt_id = len(tree_array)\n",
      "while (True):\n",
      "    merged = False\n",
      "    \n",
      "    for g1 in tree_array.keys(): \n",
      "        for g2 in tree_array[g1]:\n",
      "        \n",
      "            if( g1 in cannot_merge[g2]) : continue\n",
      "\n",
      "            if(can_merge(g1, g2)):\n",
      "                tree_array[g1].pop(tree_array.index(g2))\n",
      "                tree_array[g2].pop(tree_array.index(g1))\n",
      "                tree_array[nxt_id] = tree_array[g1] + tree_array[g2]\n",
      "\n",
      "                del cannot_merge[g1]\n",
      "                del cannot_merge[g2]\n",
      "\n",
      "                merged = True\n",
      "                nxt_id = nxt_id + 1\n",
      "                break  \n",
      "\n",
      "            else : \n",
      "                cannot_merge[g1].append(g2)\n",
      "                cannot_merge[g2].append(g1)\n",
      "        \n",
      "    if(not merged): break"
     ],
     "language": "python",
     "metadata": {},
     "outputs": [
      {
       "ename": "IndentationError",
       "evalue": "expected an indented block (<ipython-input-4-436800a78b64>, line 8)",
       "output_type": "pyerr",
       "traceback": [
        "\u001b[1;36m  File \u001b[1;32m\"<ipython-input-4-436800a78b64>\"\u001b[1;36m, line \u001b[1;32m8\u001b[0m\n\u001b[1;33m    if( g1 in cannot_merge[g2]) : continue\u001b[0m\n\u001b[1;37m     ^\u001b[0m\n\u001b[1;31mIndentationError\u001b[0m\u001b[1;31m:\u001b[0m expected an indented block\n"
       ]
      }
     ],
     "prompt_number": 4
    },
    {
     "cell_type": "code",
     "collapsed": false,
     "input": [
      "a = [1,2,3]\n",
      "for i in a:\n",
      "    a.pop(0)\n",
      "    print a\n",
      "    print i"
     ],
     "language": "python",
     "metadata": {},
     "outputs": [
      {
       "output_type": "stream",
       "stream": "stdout",
       "text": [
        "[2, 3]\n",
        "1\n",
        "[3]\n",
        "3\n"
       ]
      }
     ],
     "prompt_number": 8
    },
    {
     "cell_type": "code",
     "collapsed": false,
     "input": [],
     "language": "python",
     "metadata": {},
     "outputs": [
      {
       "output_type": "stream",
       "stream": "stdout",
       "text": [
        "[1, 4]\n"
       ]
      }
     ],
     "prompt_number": 15
    },
    {
     "cell_type": "code",
     "collapsed": false,
     "input": [],
     "language": "python",
     "metadata": {},
     "outputs": []
    }
   ],
   "metadata": {}
  }
 ]
}